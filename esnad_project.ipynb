{
 "cells": [
  {
   "cell_type": "code",
   "execution_count": null,
   "id": "739e593c",
   "metadata": {},
   "outputs": [],
   "source": [
    "import keras_ocr\n",
    "import matplotlib.pyplot as plt\n"
   ]
  },
  {
   "cell_type": "code",
   "execution_count": null,
   "id": "1b0d00d8",
   "metadata": {},
   "outputs": [],
   "source": [
    "# setup keras-ocr pipeline to process the images with pretrained weights for the detector and recognizer\n",
    "pipeline = keras_ocr.pipeline.Pipeline()"
   ]
  },
  {
   "cell_type": "code",
   "execution_count": null,
   "id": "5b8c3c80",
   "metadata": {},
   "outputs": [],
   "source": [
    "# Read images from folder path to image object\n",
    "images = [\n",
    "    keras_ocr.tools.read(img) for img in [\"C:/Users/ryuof/gaia_project.png\"]]"
   ]
  },
  {
   "cell_type": "code",
   "execution_count": null,
   "id": "41e99256",
   "metadata": {},
   "outputs": [],
   "source": [
    "\n",
    "# Check image objects for images\n",
    "from PIL import Image\n",
    "# create figure\n",
    "fig = plt.figure(figsize=(20, 10))\n",
    "  \n",
    "# setting values to rows and column variables\n",
    "rows = 1\n",
    "columns =2\n",
    "  \n",
    "# reading images\n",
    "Image1 = Image.open('C:/Users/ryuof/gaia_project')\n",
    "  \n",
    "# First Image\n",
    "fig.add_subplot(rows, columns, 1)\n",
    "plt.imshow(Image1)\n",
    "plt.axis('off')\n",
    "plt.title (\"Handwritten Text\")"
   ]
  },
  {
   "cell_type": "code",
   "execution_count": null,
   "id": "3d9257de",
   "metadata": {},
   "outputs": [],
   "source": [
    "# generate text predictions from the images\n",
    "prediction_groups = pipeline.recognize(images)"
   ]
  },
  {
   "cell_type": "code",
   "execution_count": null,
   "id": "beb601f8",
   "metadata": {},
   "outputs": [],
   "source": [
    "\n",
    "# plot the text predictions\n",
    "fig, axs = plt.subplots(ncols=len(images), figsize=(25, 15))\n",
    "for ax, image, predictions in zip(axs, images, prediction_groups):\n",
    "    keras_ocr.tools.drawAnnotations(image=image, \n",
    "                                    predictions=predictions, \n",
    "                                    ax=ax)"
   ]
  },
  {
   "cell_type": "code",
   "execution_count": null,
   "id": "ae591b51",
   "metadata": {},
   "outputs": [],
   "source": [
    "\n",
    "predicted_image_1 = prediction_groups[0]\n",
    "for text, box in predicted_image_1:\n",
    "    print(text)    \n"
   ]
  }
 ],
 "metadata": {
  "kernelspec": {
   "display_name": "Python 3 (ipykernel)",
   "language": "python",
   "name": "python3"
  },
  "language_info": {
   "codemirror_mode": {
    "name": "ipython",
    "version": 3
   },
   "file_extension": ".py",
   "mimetype": "text/x-python",
   "name": "python",
   "nbconvert_exporter": "python",
   "pygments_lexer": "ipython3",
   "version": "3.9.7"
  }
 },
 "nbformat": 4,
 "nbformat_minor": 5
}
